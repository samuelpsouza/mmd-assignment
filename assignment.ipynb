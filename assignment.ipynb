{
 "cells": [
  {
   "cell_type": "markdown",
   "metadata": {},
   "source": [
    "# Classificação de processos de homicídios\n",
    "### Importando dataset gerado via webcrawler"
   ]
  },
  {
   "cell_type": "code",
   "execution_count": 1,
   "metadata": {},
   "outputs": [],
   "source": [
    "import findspark\n",
    "findspark.init()"
   ]
  },
  {
   "cell_type": "code",
   "execution_count": 2,
   "metadata": {},
   "outputs": [],
   "source": [
    "import pyspark\n",
    "from pyspark.sql import SparkSession"
   ]
  },
  {
   "cell_type": "code",
   "execution_count": 3,
   "metadata": {},
   "outputs": [],
   "source": [
    "spark = SparkSession.builder \\\n",
    "        .master(\"local[*]\") \\\n",
    "        .appName(\"MachineLearningIris\") \\\n",
    "        .getOrCreate()\n",
    "\n",
    "data = spark.read.format(\"csv\").options(header='true', inferschema='true', encoding=\"iso-8859-1\", sep=\";\").load('resultado_pesquisa_2021_07_10_23_49_56.csv')\n",
    "data = data.na.drop()"
   ]
  },
  {
   "cell_type": "code",
   "execution_count": 4,
   "metadata": {},
   "outputs": [
    {
     "name": "stdout",
     "output_type": "stream",
     "text": [
      "+--------------------+--------------------+--------------------+\n",
      "|             assunto|          magistrado|               texto|\n",
      "+--------------------+--------------------+--------------------+\n",
      "|   Homicídio Simples|Bruno Nascimento ...|TRIBUNAL DE JUSTI...|\n",
      "|  Crimes de Trânsito|FABIO ANTONIO CAM...|TRIBUNAL DE JUSTI...|\n",
      "|Homicídio Qualifi...|EMERSON TADEU PIR...|TRIBUNAL DE JUSTI...|\n",
      "|               Furto|EDUARDO DE FRANCA...|\"TRIBUNAL DE JUST...|\n",
      "|  Crimes de Trânsito|Fabio Pando de Matos|TRIBUNAL DE JUSTI...|\n",
      "+--------------------+--------------------+--------------------+\n",
      "only showing top 5 rows\n",
      "\n"
     ]
    }
   ],
   "source": [
    "drop_list = ['classe', 'comarca', 'foro', 'vara', 'data de disponibilizacao']\n",
    "data = data.select([column for column in data.columns if column not in drop_list])\n",
    "\n",
    "data.show(5)"
   ]
  },
  {
   "cell_type": "code",
   "execution_count": 9,
   "metadata": {},
   "outputs": [
    {
     "name": "stdout",
     "output_type": "stream",
     "text": [
      "+------------------+--------------------+--------------------+\n",
      "|           assunto|          magistrado|               texto|\n",
      "+------------------+--------------------+--------------------+\n",
      "|Crimes de Trânsito|FABIO ANTONIO CAM...|TRIBUNAL DE JUSTI...|\n",
      "|             Furto|EDUARDO DE FRANCA...|\"TRIBUNAL DE JUST...|\n",
      "|Crimes de Trânsito|Fabio Pando de Matos|TRIBUNAL DE JUSTI...|\n",
      "|             Roubo|MARIA PRISCILLA E...|\"TRIBUNAL DE JUST...|\n",
      "|     Crime Culposo|LEONARDO PRAZERES...|TRIBUNAL DE JUSTI...|\n",
      "+------------------+--------------------+--------------------+\n",
      "only showing top 5 rows\n",
      "\n"
     ]
    }
   ],
   "source": [
    "from pyspark.sql.functions import split\n",
    "from pyspark.sql.functions import size\n",
    "from pyspark.sql.functions import col\n",
    "\n",
    "dummy = data.select(split(data.texto, 'Vistos.').alias(\"arr\"))\n",
    "dummy = dummy.select(dummy.arr[size(dummy.arr)-1].alias(\"texto\"))\n",
    "\n",
    "dummy = dummy.select(split(dummy.texto, 'Intime-se').alias(\"arr\"))\n",
    "dummy = dummy.select(dummy.arr[size(dummy.arr)-1].alias(\"d_text\"))\n",
    "\n",
    "data = data.filter(~col(\"assunto\").contains(\"Homicídio\"))\n",
    "data.show(5)"
   ]
  },
  {
   "cell_type": "code",
   "execution_count": 10,
   "metadata": {},
   "outputs": [
    {
     "name": "stdout",
     "output_type": "stream",
     "text": [
      "+--------------------+-----+\n",
      "|             assunto|count|\n",
      "+--------------------+-----+\n",
      "|  Crimes de Trânsito| 5644|\n",
      "|Tráfico de Drogas...| 5556|\n",
      "|               Roubo| 3479|\n",
      "|Indenização por D...| 1834|\n",
      "|Crimes do Sistema...| 1515|\n",
      "|   Furto Qualificado| 1141|\n",
      "|Crimes contra a vida|  970|\n",
      "|               Furto|  951|\n",
      "|Indenização por D...|  627|\n",
      "|Acidente de Trânsito|  612|\n",
      "|          Receptação|  560|\n",
      "|      Lesão Corporal|  533|\n",
      "|          Latrocínio|  508|\n",
      "|Decorrente de Vio...|  469|\n",
      "|      Roubo Majorado|  467|\n",
      "|              Ameaça|  374|\n",
      "|                Leve|  307|\n",
      "|Uso de documento ...|  241|\n",
      "|         Estelionato|  233|\n",
      "|Responsabilidade ...|  212|\n",
      "+--------------------+-----+\n",
      "only showing top 20 rows\n",
      "\n"
     ]
    }
   ],
   "source": [
    "from pyspark.sql.functions import col\n",
    "data.groupBy(\"assunto\") \\\n",
    "    .count() \\\n",
    "    .orderBy(col(\"count\").desc()) \\\n",
    "    .show()"
   ]
  },
  {
   "cell_type": "code",
   "execution_count": 11,
   "metadata": {},
   "outputs": [],
   "source": [
    "from pyspark.ml.feature import RegexTokenizer, StopWordsRemover, CountVectorizer\n",
    "from pyspark.ml.classification import LogisticRegression\n",
    "# regular expression tokenizer\n",
    "regexTokenizer = RegexTokenizer(inputCol=\"texto\", outputCol=\"words\", pattern=\"\\\\W\")\n",
    "# stop words\n",
    "add_stopwords = [\"de\",\"a\",\"o\",\"que\",\"e\",\"do\",\"da\",\"em\",\"um\",\"para\",\"é\",\"com\",\"não\",\"uma\",\"os\",\"no\",\"se\",\"na\",\n",
    "                 \"por\",\"mais\",\"as\",\"dos\",\"como\",\"mas\",\"foi\",\"ao\",\"ele\",\"das\",\"tem\",\"à\",\"seu\",\"sua\",\"ou\",\"ser\",\n",
    "                 \"quando\",\"muito\",\"há\",\"nos\",\"já\",\"está\",\"eu\",\"também\",\"só\",\"pelo\",\"pela\",\"até\",\"isso\",\"ela\",\n",
    "                 \"entre\",\"era\",\"depois\",\"sem\",\"mesmo\",\"aos\",\"ter\",\"seus\",\"quem\",\"nas\",\"me\",\"esse\",\"eles\",\"estão\",\n",
    "                 \"você\",\"tinha\",\"foram\",\"essa\",\"num\",\"nem\",\"suas\",\"meu\",\"às\",\"minha\",\"têm\",\"numa\",\"pelos\",\"elas\",\n",
    "                 \"havia\",\"seja\",\"qual\",\"será\",\"nós\",\"tenho\",\"lhe\",\"deles\",\"essas\",\"esses\",\"pelas\",\"este\",\"fosse\",\n",
    "                 \"dele\",\"tu\",\"te\",\"vocês\",\"vos\",\"lhes\",\"meus\",\"minhas\",\"teu\",\"tua\",\"teus\",\"tuas\",\"nosso\",\"nossa\",\n",
    "                 \"nossos\",\"nossas\",\"dela\",\"delas\",\"esta\",\"estes\",\"estas\",\"aquele\",\"aquela\",\"aqueles\",\"aquelas\",\n",
    "                 \"isto\",\"aquilo\",\"estou\",\"está\",\"estamos\",\"estão\",\"estive\",\"esteve\",\"estivemos\",\"estiveram\",\n",
    "                 \"estava\",\"estávamos\",\"estavam\",\"estivera\",\"estivéramos\",\"esteja\",\"estejamos\",\"estejam\",\n",
    "                 \"estivesse\",\"estivéssemos\",\"estivessem\",\"estiver\",\"estivermos\",\"estiverem\",\"hei\",\"há\",\"havemos\",\n",
    "                 \"hão\",\"houve\",\"houvemos\",\"houveram\",\"houvera\",\"houvéramos\",\"haja\",\"hajamos\",\"hajam\",\"houvesse\",\n",
    "                 \"houvéssemos\",\"houvessem\",\"houver\",\"houvermos\",\"houverem\",\"houverei\",\"houverá\",\"houveremos\",\n",
    "                 \"houverão\",\"houveria\",\"houveríamos\",\"houveriam\",\"sou\",\"somos\",\"são\",\"era\",\"éramos\",\"eram\",\"fui\",\n",
    "                 \"foi\",\"fomos\",\"foram\",\"fora\",\"fôramos\",\"seja\",\"sejamos\",\"sejam\",\"fosse\",\"fôssemos\",\"fossem\",\n",
    "                 \"for\",\"formos\",\"forem\",\"serei\",\"será\",\"seremos\",\"serão\",\"seria\",\"seríamos\",\"seriam\",\"tenho\",\n",
    "                 \"tem\",\"temos\",\"tém\",\"tinha\",\"tínhamos\",\"tinham\",\"tive\",\"teve\",\"tivemos\",\"tiveram\",\"tivera\",\n",
    "                 \"tivéramos\",\"tenha\",\"tenhamos\",\"tenham\",\"tivesse\",\"tivéssemos\",\"tivessem\",\"tiver\",\"tivermos\",\n",
    "                 \"tiverem\",\"terei\",\"terá\",\"teremos\",\"terão\",\"teria\",\"teríamos\",\"teriam\"] \n",
    "stopwordsRemover = StopWordsRemover(inputCol=\"words\", outputCol=\"filtered\").setStopWords(add_stopwords)\n",
    "# bag of words count\n",
    "countVectors = CountVectorizer(inputCol=\"filtered\", outputCol=\"features\", vocabSize=10000, minDF=5)"
   ]
  },
  {
   "cell_type": "code",
   "execution_count": 12,
   "metadata": {},
   "outputs": [
    {
     "name": "stdout",
     "output_type": "stream",
     "text": [
      "+------------------+--------------------+--------------------+--------------------+--------------------+--------------------+-----+\n",
      "|           assunto|          magistrado|               texto|               words|            filtered|            features|label|\n",
      "+------------------+--------------------+--------------------+--------------------+--------------------+--------------------+-----+\n",
      "|Crimes de Trânsito|FABIO ANTONIO CAM...|TRIBUNAL DE JUSTI...|[tribunal, de, ju...|[tribunal, justi,...|(10000,[0,1,2,3,4...|  0.0|\n",
      "|             Furto|EDUARDO DE FRANCA...|\"TRIBUNAL DE JUST...|[tribunal, de, ju...|[tribunal, justi,...|(10000,[0,1,2,3,4...|  7.0|\n",
      "|Crimes de Trânsito|Fabio Pando de Matos|TRIBUNAL DE JUSTI...|[tribunal, de, ju...|[tribunal, justi,...|(10000,[0,1,2,3,4...|  0.0|\n",
      "|             Roubo|MARIA PRISCILLA E...|\"TRIBUNAL DE JUST...|[tribunal, de, ju...|[tribunal, justi,...|(10000,[0,1,2,3,4...|  2.0|\n",
      "|     Crime Culposo|LEONARDO PRAZERES...|TRIBUNAL DE JUSTI...|[tribunal, de, ju...|[tribunal, justi,...|(10000,[0,1,2,3,4...| 30.0|\n",
      "+------------------+--------------------+--------------------+--------------------+--------------------+--------------------+-----+\n",
      "only showing top 5 rows\n",
      "\n"
     ]
    }
   ],
   "source": [
    "from pyspark.ml import Pipeline\n",
    "from pyspark.ml.feature import OneHotEncoder, StringIndexer, VectorAssembler\n",
    "label_stringIdx = StringIndexer(inputCol = \"assunto\", outputCol = \"label\")\n",
    "pipeline = Pipeline(stages=[regexTokenizer, stopwordsRemover, countVectors, label_stringIdx])\n",
    "\n",
    "pipelineFit = pipeline.fit(data)\n",
    "dataset = pipelineFit.transform(data)\n",
    "dataset.show(5)"
   ]
  },
  {
   "cell_type": "code",
   "execution_count": 13,
   "metadata": {},
   "outputs": [],
   "source": [
    "# set seed for reproducibility\n",
    "(trainingData, testData) = dataset.randomSplit([0.7, 0.3], seed = 100)"
   ]
  },
  {
   "cell_type": "code",
   "execution_count": null,
   "metadata": {},
   "outputs": [],
   "source": [
    "lr = LogisticRegression(maxIter=20, regParam=0.3, elasticNetParam=0)\n",
    "lrModel = lr.fit(trainingData)\n",
    "predictions = lrModel.transform(testData)\n",
    "predictions.filter(predictions['prediction'] == 0) \\\n",
    "    .select(\"texto\",\"assunto\",\"probability\",\"label\",\"prediction\") \\\n",
    "    .orderBy(\"probability\", ascending=False) \\\n",
    "    .show(n = 10, truncate = 30)"
   ]
  },
  {
   "cell_type": "code",
   "execution_count": null,
   "metadata": {},
   "outputs": [],
   "source": [
    "from pyspark.ml.evaluation import MulticlassClassificationEvaluator\n",
    "evaluator = MulticlassClassificationEvaluator(predictionCol=\"prediction\")\n",
    "evaluator.evaluate(predictions)"
   ]
  },
  {
   "cell_type": "code",
   "execution_count": null,
   "metadata": {},
   "outputs": [],
   "source": []
  }
 ],
 "metadata": {
  "kernelspec": {
   "display_name": "Python 3",
   "language": "python",
   "name": "python3"
  },
  "language_info": {
   "codemirror_mode": {
    "name": "ipython",
    "version": 3
   },
   "file_extension": ".py",
   "mimetype": "text/x-python",
   "name": "python",
   "nbconvert_exporter": "python",
   "pygments_lexer": "ipython3",
   "version": "3.6.9"
  }
 },
 "nbformat": 4,
 "nbformat_minor": 4
}
