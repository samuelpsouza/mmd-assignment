{
 "cells": [
  {
   "cell_type": "markdown",
   "metadata": {},
   "source": [
    "### Importando dataset gerado via webcrawler"
   ]
  },
  {
   "cell_type": "code",
   "execution_count": 1,
   "metadata": {},
   "outputs": [],
   "source": [
    "import pandas as pd"
   ]
  },
  {
   "cell_type": "code",
   "execution_count": 2,
   "metadata": {},
   "outputs": [],
   "source": [
    "dataset = pd.read_csv(\"resultado_pesquisa_2021_07_10_23_49_56.csv\", sep=\";\", encoding = \"ISO-8859-1\")"
   ]
  },
  {
   "cell_type": "code",
   "execution_count": 3,
   "metadata": {},
   "outputs": [
    {
     "data": {
      "text/html": [
       "<div>\n",
       "<style scoped>\n",
       "    .dataframe tbody tr th:only-of-type {\n",
       "        vertical-align: middle;\n",
       "    }\n",
       "\n",
       "    .dataframe tbody tr th {\n",
       "        vertical-align: top;\n",
       "    }\n",
       "\n",
       "    .dataframe thead th {\n",
       "        text-align: right;\n",
       "    }\n",
       "</style>\n",
       "<table border=\"1\" class=\"dataframe\">\n",
       "  <thead>\n",
       "    <tr style=\"text-align: right;\">\n",
       "      <th></th>\n",
       "      <th>classe</th>\n",
       "      <th>assunto</th>\n",
       "      <th>magistrado</th>\n",
       "      <th>comarca</th>\n",
       "      <th>foro</th>\n",
       "      <th>vara</th>\n",
       "      <th>data de disponibilizacao</th>\n",
       "      <th>texto</th>\n",
       "    </tr>\n",
       "  </thead>\n",
       "  <tbody>\n",
       "    <tr>\n",
       "      <th>0</th>\n",
       "      <td>Ação Penal de Competência do Júri</td>\n",
       "      <td>Homicídio Simples</td>\n",
       "      <td>Bruno Nascimento Troccoli</td>\n",
       "      <td>Mongaguá</td>\n",
       "      <td>Foro de Mongaguá</td>\n",
       "      <td>2ª Vara</td>\n",
       "      <td>09/07/2021</td>\n",
       "      <td>TRIBUNAL DE JUSTIÇA DO ESTADO DE SÃO PAULO  CO...</td>\n",
       "    </tr>\n",
       "    <tr>\n",
       "      <th>1</th>\n",
       "      <td>Ação Penal - Procedimento Sumário</td>\n",
       "      <td>Crimes de Trânsito</td>\n",
       "      <td>FABIO ANTONIO CAMARGO DANTAS</td>\n",
       "      <td>Jales</td>\n",
       "      <td>Foro de Jales</td>\n",
       "      <td>1ª  Vara Criminal</td>\n",
       "      <td>09/07/2021</td>\n",
       "      <td>TRIBUNAL DE JUSTIÇA DO ESTADO DE SÃO PAULO  CO...</td>\n",
       "    </tr>\n",
       "    <tr>\n",
       "      <th>2</th>\n",
       "      <td>Ação Penal de Competência do Júri</td>\n",
       "      <td>Homicídio Qualificado</td>\n",
       "      <td>EMERSON TADEU PIRES DE CAMARGO</td>\n",
       "      <td>Sorocaba</td>\n",
       "      <td>Foro de Sorocaba</td>\n",
       "      <td>Vara do Júri/Execuções</td>\n",
       "      <td>09/07/2021</td>\n",
       "      <td>TRIBUNAL DE JUSTIÇA DO ESTADO DE SÃO PAULO  CO...</td>\n",
       "    </tr>\n",
       "    <tr>\n",
       "      <th>3</th>\n",
       "      <td>Ação Penal - Procedimento Ordinário</td>\n",
       "      <td>Furto</td>\n",
       "      <td>EDUARDO DE FRANCA HELENE</td>\n",
       "      <td>São José dos Campos</td>\n",
       "      <td>Foro de São José dos Campos</td>\n",
       "      <td>3ª Vara Criminal</td>\n",
       "      <td>08/07/2021</td>\n",
       "      <td>TRIBUNAL DE JUSTIÇA DO ESTADO DE SÃO PAULO  CO...</td>\n",
       "    </tr>\n",
       "    <tr>\n",
       "      <th>4</th>\n",
       "      <td>Ação Penal - Procedimento Ordinário</td>\n",
       "      <td>Crimes de Trânsito</td>\n",
       "      <td>Fabio Pando de Matos</td>\n",
       "      <td>SÃO PAULO</td>\n",
       "      <td>Foro Central Criminal Barra Funda</td>\n",
       "      <td>10ª Vara Criminal</td>\n",
       "      <td>08/07/2021</td>\n",
       "      <td>TRIBUNAL DE JUSTIÇA DO ESTADO DE SÃO PAULO  CO...</td>\n",
       "    </tr>\n",
       "  </tbody>\n",
       "</table>\n",
       "</div>"
      ],
      "text/plain": [
       "                                classe                assunto  \\\n",
       "0    Ação Penal de Competência do Júri      Homicídio Simples   \n",
       "1    Ação Penal - Procedimento Sumário     Crimes de Trânsito   \n",
       "2    Ação Penal de Competência do Júri  Homicídio Qualificado   \n",
       "3  Ação Penal - Procedimento Ordinário                  Furto   \n",
       "4  Ação Penal - Procedimento Ordinário     Crimes de Trânsito   \n",
       "\n",
       "                       magistrado              comarca  \\\n",
       "0       Bruno Nascimento Troccoli             Mongaguá   \n",
       "1    FABIO ANTONIO CAMARGO DANTAS                Jales   \n",
       "2  EMERSON TADEU PIRES DE CAMARGO             Sorocaba   \n",
       "3        EDUARDO DE FRANCA HELENE  São José dos Campos   \n",
       "4            Fabio Pando de Matos            SÃO PAULO   \n",
       "\n",
       "                                foro                    vara  \\\n",
       "0                   Foro de Mongaguá                 2ª Vara   \n",
       "1                      Foro de Jales       1ª  Vara Criminal   \n",
       "2                   Foro de Sorocaba  Vara do Júri/Execuções   \n",
       "3        Foro de São José dos Campos        3ª Vara Criminal   \n",
       "4  Foro Central Criminal Barra Funda       10ª Vara Criminal   \n",
       "\n",
       "  data de disponibilizacao                                              texto  \n",
       "0               09/07/2021  TRIBUNAL DE JUSTIÇA DO ESTADO DE SÃO PAULO  CO...  \n",
       "1               09/07/2021  TRIBUNAL DE JUSTIÇA DO ESTADO DE SÃO PAULO  CO...  \n",
       "2               09/07/2021  TRIBUNAL DE JUSTIÇA DO ESTADO DE SÃO PAULO  CO...  \n",
       "3               08/07/2021  TRIBUNAL DE JUSTIÇA DO ESTADO DE SÃO PAULO  CO...  \n",
       "4               08/07/2021  TRIBUNAL DE JUSTIÇA DO ESTADO DE SÃO PAULO  CO...  "
      ]
     },
     "execution_count": 3,
     "metadata": {},
     "output_type": "execute_result"
    }
   ],
   "source": [
    "dataset.head()"
   ]
  },
  {
   "cell_type": "markdown",
   "metadata": {},
   "source": [
    "### Limpando os dados e removendo informações desnecessárias"
   ]
  },
  {
   "cell_type": "code",
   "execution_count": 4,
   "metadata": {},
   "outputs": [
    {
     "data": {
      "text/plain": [
       "0     TRIBUNAL DE JUSTIÇA DO ESTADO DE SÃO PAULO  CO...\n",
       "2     TRIBUNAL DE JUSTIÇA DO ESTADO DE SÃO PAULO  CO...\n",
       "7     TRIBUNAL DE JUSTIÇA DO ESTADO DE SÃO PAULO  CO...\n",
       "9     TRIBUNAL DE JUSTIÇA DO ESTADO DE SÃO PAULO  CO...\n",
       "10    TRIBUNAL DE JUSTIÇA DO ESTADO DE SÃO PAULO  CO...\n",
       "Name: texto, dtype: object"
      ]
     },
     "execution_count": 4,
     "metadata": {},
     "output_type": "execute_result"
    }
   ],
   "source": [
    "non_null_ds = dataset.dropna()\n",
    "\n",
    "cutted_ds = non_null_ds[['assunto','magistrado','texto']].copy()\n",
    "cutted_ds = cutted_ds[cutted_ds.assunto.str.contains('Homicídio')]\n",
    "cutted_ds = cutted_ds[cutted_ds.texto.str.contains('Vistos.')]\n",
    "cutted_ds.texto.head()"
   ]
  },
  {
   "cell_type": "code",
   "execution_count": 5,
   "metadata": {},
   "outputs": [],
   "source": [
    "cutted_ds['texto'] = cutted_ds['texto'].map(lambda x: str(x).split('Vistos.')[-1].split('Intime-se')[0])"
   ]
  }
 ],
 "metadata": {
  "kernelspec": {
   "display_name": "Python 3",
   "language": "python",
   "name": "python3"
  },
  "language_info": {
   "codemirror_mode": {
    "name": "ipython",
    "version": 3
   },
   "file_extension": ".py",
   "mimetype": "text/x-python",
   "name": "python",
   "nbconvert_exporter": "python",
   "pygments_lexer": "ipython3",
   "version": "3.6.9"
  }
 },
 "nbformat": 4,
 "nbformat_minor": 4
}
