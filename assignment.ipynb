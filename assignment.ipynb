{
 "cells": [
  {
   "cell_type": "markdown",
   "metadata": {},
   "source": [
    "# Classificação de processos de homicídios\n",
    "### Importando dataset gerado via webcrawler"
   ]
  },
  {
   "cell_type": "code",
   "execution_count": 1,
   "metadata": {},
   "outputs": [],
   "source": [
    "import pandas as pd"
   ]
  },
  {
   "cell_type": "code",
   "execution_count": 2,
   "metadata": {},
   "outputs": [],
   "source": [
    "dataset = pd.read_csv(\"resultado_pesquisa_2021_07_10_23_49_56.csv\", sep=\";\", encoding = \"ISO-8859-1\")"
   ]
  },
  {
   "cell_type": "code",
   "execution_count": 3,
   "metadata": {},
   "outputs": [
    {
     "data": {
      "text/html": [
       "<div>\n",
       "<style scoped>\n",
       "    .dataframe tbody tr th:only-of-type {\n",
       "        vertical-align: middle;\n",
       "    }\n",
       "\n",
       "    .dataframe tbody tr th {\n",
       "        vertical-align: top;\n",
       "    }\n",
       "\n",
       "    .dataframe thead th {\n",
       "        text-align: right;\n",
       "    }\n",
       "</style>\n",
       "<table border=\"1\" class=\"dataframe\">\n",
       "  <thead>\n",
       "    <tr style=\"text-align: right;\">\n",
       "      <th></th>\n",
       "      <th>classe</th>\n",
       "      <th>assunto</th>\n",
       "      <th>magistrado</th>\n",
       "      <th>comarca</th>\n",
       "      <th>foro</th>\n",
       "      <th>vara</th>\n",
       "      <th>data de disponibilizacao</th>\n",
       "      <th>texto</th>\n",
       "    </tr>\n",
       "  </thead>\n",
       "  <tbody>\n",
       "    <tr>\n",
       "      <th>0</th>\n",
       "      <td>Ação Penal de Competência do Júri</td>\n",
       "      <td>Homicídio Simples</td>\n",
       "      <td>Bruno Nascimento Troccoli</td>\n",
       "      <td>Mongaguá</td>\n",
       "      <td>Foro de Mongaguá</td>\n",
       "      <td>2ª Vara</td>\n",
       "      <td>09/07/2021</td>\n",
       "      <td>TRIBUNAL DE JUSTIÇA DO ESTADO DE SÃO PAULO  CO...</td>\n",
       "    </tr>\n",
       "    <tr>\n",
       "      <th>1</th>\n",
       "      <td>Ação Penal - Procedimento Sumário</td>\n",
       "      <td>Crimes de Trânsito</td>\n",
       "      <td>FABIO ANTONIO CAMARGO DANTAS</td>\n",
       "      <td>Jales</td>\n",
       "      <td>Foro de Jales</td>\n",
       "      <td>1ª  Vara Criminal</td>\n",
       "      <td>09/07/2021</td>\n",
       "      <td>TRIBUNAL DE JUSTIÇA DO ESTADO DE SÃO PAULO  CO...</td>\n",
       "    </tr>\n",
       "    <tr>\n",
       "      <th>2</th>\n",
       "      <td>Ação Penal de Competência do Júri</td>\n",
       "      <td>Homicídio Qualificado</td>\n",
       "      <td>EMERSON TADEU PIRES DE CAMARGO</td>\n",
       "      <td>Sorocaba</td>\n",
       "      <td>Foro de Sorocaba</td>\n",
       "      <td>Vara do Júri/Execuções</td>\n",
       "      <td>09/07/2021</td>\n",
       "      <td>TRIBUNAL DE JUSTIÇA DO ESTADO DE SÃO PAULO  CO...</td>\n",
       "    </tr>\n",
       "    <tr>\n",
       "      <th>3</th>\n",
       "      <td>Ação Penal - Procedimento Ordinário</td>\n",
       "      <td>Furto</td>\n",
       "      <td>EDUARDO DE FRANCA HELENE</td>\n",
       "      <td>São José dos Campos</td>\n",
       "      <td>Foro de São José dos Campos</td>\n",
       "      <td>3ª Vara Criminal</td>\n",
       "      <td>08/07/2021</td>\n",
       "      <td>TRIBUNAL DE JUSTIÇA DO ESTADO DE SÃO PAULO  CO...</td>\n",
       "    </tr>\n",
       "    <tr>\n",
       "      <th>4</th>\n",
       "      <td>Ação Penal - Procedimento Ordinário</td>\n",
       "      <td>Crimes de Trânsito</td>\n",
       "      <td>Fabio Pando de Matos</td>\n",
       "      <td>SÃO PAULO</td>\n",
       "      <td>Foro Central Criminal Barra Funda</td>\n",
       "      <td>10ª Vara Criminal</td>\n",
       "      <td>08/07/2021</td>\n",
       "      <td>TRIBUNAL DE JUSTIÇA DO ESTADO DE SÃO PAULO  CO...</td>\n",
       "    </tr>\n",
       "  </tbody>\n",
       "</table>\n",
       "</div>"
      ],
      "text/plain": [
       "                                classe                assunto  \\\n",
       "0    Ação Penal de Competência do Júri      Homicídio Simples   \n",
       "1    Ação Penal - Procedimento Sumário     Crimes de Trânsito   \n",
       "2    Ação Penal de Competência do Júri  Homicídio Qualificado   \n",
       "3  Ação Penal - Procedimento Ordinário                  Furto   \n",
       "4  Ação Penal - Procedimento Ordinário     Crimes de Trânsito   \n",
       "\n",
       "                       magistrado              comarca  \\\n",
       "0       Bruno Nascimento Troccoli             Mongaguá   \n",
       "1    FABIO ANTONIO CAMARGO DANTAS                Jales   \n",
       "2  EMERSON TADEU PIRES DE CAMARGO             Sorocaba   \n",
       "3        EDUARDO DE FRANCA HELENE  São José dos Campos   \n",
       "4            Fabio Pando de Matos            SÃO PAULO   \n",
       "\n",
       "                                foro                    vara  \\\n",
       "0                   Foro de Mongaguá                 2ª Vara   \n",
       "1                      Foro de Jales       1ª  Vara Criminal   \n",
       "2                   Foro de Sorocaba  Vara do Júri/Execuções   \n",
       "3        Foro de São José dos Campos        3ª Vara Criminal   \n",
       "4  Foro Central Criminal Barra Funda       10ª Vara Criminal   \n",
       "\n",
       "  data de disponibilizacao                                              texto  \n",
       "0               09/07/2021  TRIBUNAL DE JUSTIÇA DO ESTADO DE SÃO PAULO  CO...  \n",
       "1               09/07/2021  TRIBUNAL DE JUSTIÇA DO ESTADO DE SÃO PAULO  CO...  \n",
       "2               09/07/2021  TRIBUNAL DE JUSTIÇA DO ESTADO DE SÃO PAULO  CO...  \n",
       "3               08/07/2021  TRIBUNAL DE JUSTIÇA DO ESTADO DE SÃO PAULO  CO...  \n",
       "4               08/07/2021  TRIBUNAL DE JUSTIÇA DO ESTADO DE SÃO PAULO  CO...  "
      ]
     },
     "execution_count": 3,
     "metadata": {},
     "output_type": "execute_result"
    }
   ],
   "source": [
    "dataset.head()"
   ]
  },
  {
   "cell_type": "markdown",
   "metadata": {},
   "source": [
    "### Limpando os dados e removendo informações desnecessárias"
   ]
  },
  {
   "cell_type": "code",
   "execution_count": 4,
   "metadata": {},
   "outputs": [
    {
     "data": {
      "text/plain": [
       "0     TRIBUNAL DE JUSTIÇA DO ESTADO DE SÃO PAULO  CO...\n",
       "2     TRIBUNAL DE JUSTIÇA DO ESTADO DE SÃO PAULO  CO...\n",
       "7     TRIBUNAL DE JUSTIÇA DO ESTADO DE SÃO PAULO  CO...\n",
       "9     TRIBUNAL DE JUSTIÇA DO ESTADO DE SÃO PAULO  CO...\n",
       "10    TRIBUNAL DE JUSTIÇA DO ESTADO DE SÃO PAULO  CO...\n",
       "Name: texto, dtype: object"
      ]
     },
     "execution_count": 4,
     "metadata": {},
     "output_type": "execute_result"
    }
   ],
   "source": [
    "non_null_ds = dataset.dropna()\n",
    "\n",
    "df = non_null_ds[['assunto','magistrado','texto']].copy()\n",
    "df = df[df.assunto.str.contains('Homicídio')]\n",
    "df = df[df.texto.str.contains('Vistos.')]\n",
    "df.texto.head()"
   ]
  },
  {
   "cell_type": "code",
   "execution_count": 5,
   "metadata": {},
   "outputs": [],
   "source": [
    "df['texto'] = df['texto'].map(lambda x: str(x).split('Vistos.')[-1].split('Intime-se')[0])"
   ]
  },
  {
   "cell_type": "code",
   "execution_count": 6,
   "metadata": {},
   "outputs": [
    {
     "data": {
      "text/html": [
       "<div>\n",
       "<style scoped>\n",
       "    .dataframe tbody tr th:only-of-type {\n",
       "        vertical-align: middle;\n",
       "    }\n",
       "\n",
       "    .dataframe tbody tr th {\n",
       "        vertical-align: top;\n",
       "    }\n",
       "\n",
       "    .dataframe thead th {\n",
       "        text-align: right;\n",
       "    }\n",
       "</style>\n",
       "<table border=\"1\" class=\"dataframe\">\n",
       "  <thead>\n",
       "    <tr style=\"text-align: right;\">\n",
       "      <th></th>\n",
       "      <th>assunto</th>\n",
       "      <th>magistrado</th>\n",
       "      <th>texto</th>\n",
       "    </tr>\n",
       "  </thead>\n",
       "  <tbody>\n",
       "    <tr>\n",
       "      <th>0</th>\n",
       "      <td>Homicídio Simples</td>\n",
       "      <td>Bruno Nascimento Troccoli</td>\n",
       "      <td>Os acusados JOSIMAR FERREIRA DA FONSECA e ...</td>\n",
       "    </tr>\n",
       "    <tr>\n",
       "      <th>2</th>\n",
       "      <td>Homicídio Qualificado</td>\n",
       "      <td>EMERSON TADEU PIRES DE CAMARGO</td>\n",
       "      <td>O réu ARISTIDES GOMES DOS SANTOS, qualif...</td>\n",
       "    </tr>\n",
       "    <tr>\n",
       "      <th>7</th>\n",
       "      <td>Homicídio Simples</td>\n",
       "      <td>GABRIEL ALVES BUENO PEREIRA</td>\n",
       "      <td>LUIZ FERNANDO DOS SANTOS PEREIRA, qualificad...</td>\n",
       "    </tr>\n",
       "    <tr>\n",
       "      <th>9</th>\n",
       "      <td>Homicídio Simples</td>\n",
       "      <td>ERICA PEREIRA DE SOUSA</td>\n",
       "      <td>SIDNEY DIAS DE SOUSA foi denunciado ...</td>\n",
       "    </tr>\n",
       "    <tr>\n",
       "      <th>10</th>\n",
       "      <td>Homicídio Simples</td>\n",
       "      <td>Paulo Rogério Santos Pinheiro</td>\n",
       "      <td>EDNALDO FREITAS DE OLIVEIRA, qualificado nos...</td>\n",
       "    </tr>\n",
       "  </tbody>\n",
       "</table>\n",
       "</div>"
      ],
      "text/plain": [
       "                  assunto                      magistrado  \\\n",
       "0       Homicídio Simples       Bruno Nascimento Troccoli   \n",
       "2   Homicídio Qualificado  EMERSON TADEU PIRES DE CAMARGO   \n",
       "7       Homicídio Simples     GABRIEL ALVES BUENO PEREIRA   \n",
       "9       Homicídio Simples          ERICA PEREIRA DE SOUSA   \n",
       "10      Homicídio Simples   Paulo Rogério Santos Pinheiro   \n",
       "\n",
       "                                                texto  \n",
       "0       Os acusados JOSIMAR FERREIRA DA FONSECA e ...  \n",
       "2         O réu ARISTIDES GOMES DOS SANTOS, qualif...  \n",
       "7     LUIZ FERNANDO DOS SANTOS PEREIRA, qualificad...  \n",
       "9             SIDNEY DIAS DE SOUSA foi denunciado ...  \n",
       "10    EDNALDO FREITAS DE OLIVEIRA, qualificado nos...  "
      ]
     },
     "execution_count": 6,
     "metadata": {},
     "output_type": "execute_result"
    }
   ],
   "source": [
    "df.head()"
   ]
  },
  {
   "cell_type": "code",
   "execution_count": 7,
   "metadata": {},
   "outputs": [
    {
     "name": "stdout",
     "output_type": "stream",
     "text": [
      "<class 'pandas.core.frame.DataFrame'>\n",
      "Int64Index: 23340 entries, 0 to 65619\n",
      "Data columns (total 3 columns):\n",
      " #   Column      Non-Null Count  Dtype \n",
      "---  ------      --------------  ----- \n",
      " 0   assunto     23340 non-null  object\n",
      " 1   magistrado  23340 non-null  object\n",
      " 2   texto       23340 non-null  object\n",
      "dtypes: object(3)\n",
      "memory usage: 729.4+ KB\n"
     ]
    }
   ],
   "source": [
    "df.info()"
   ]
  },
  {
   "cell_type": "code",
   "execution_count": 8,
   "metadata": {},
   "outputs": [
    {
     "data": {
      "text/html": [
       "<div>\n",
       "<style scoped>\n",
       "    .dataframe tbody tr th:only-of-type {\n",
       "        vertical-align: middle;\n",
       "    }\n",
       "\n",
       "    .dataframe tbody tr th {\n",
       "        vertical-align: top;\n",
       "    }\n",
       "\n",
       "    .dataframe thead th {\n",
       "        text-align: right;\n",
       "    }\n",
       "</style>\n",
       "<table border=\"1\" class=\"dataframe\">\n",
       "  <thead>\n",
       "    <tr style=\"text-align: right;\">\n",
       "      <th></th>\n",
       "      <th>assunto</th>\n",
       "      <th>magistrado</th>\n",
       "      <th>texto</th>\n",
       "    </tr>\n",
       "  </thead>\n",
       "  <tbody>\n",
       "    <tr>\n",
       "      <th>count</th>\n",
       "      <td>23340</td>\n",
       "      <td>23340</td>\n",
       "      <td>23340</td>\n",
       "    </tr>\n",
       "    <tr>\n",
       "      <th>unique</th>\n",
       "      <td>3</td>\n",
       "      <td>1219</td>\n",
       "      <td>22781</td>\n",
       "    </tr>\n",
       "    <tr>\n",
       "      <th>top</th>\n",
       "      <td>Homicídio Simples</td>\n",
       "      <td>Fernando Martinho de Barros Penteado</td>\n",
       "      <td></td>\n",
       "    </tr>\n",
       "    <tr>\n",
       "      <th>freq</th>\n",
       "      <td>14086</td>\n",
       "      <td>428</td>\n",
       "      <td>8</td>\n",
       "    </tr>\n",
       "  </tbody>\n",
       "</table>\n",
       "</div>"
      ],
      "text/plain": [
       "                  assunto                            magistrado  texto\n",
       "count               23340                                 23340  23340\n",
       "unique                  3                                  1219  22781\n",
       "top     Homicídio Simples  Fernando Martinho de Barros Penteado       \n",
       "freq                14086                                   428      8"
      ]
     },
     "execution_count": 8,
     "metadata": {},
     "output_type": "execute_result"
    }
   ],
   "source": [
    "df.describe()"
   ]
  },
  {
   "cell_type": "code",
   "execution_count": 9,
   "metadata": {},
   "outputs": [],
   "source": [
    "df = df[:2000]"
   ]
  },
  {
   "cell_type": "code",
   "execution_count": 10,
   "metadata": {},
   "outputs": [],
   "source": [
    "df['culpado'] = df.texto.str.contains('cumprimento de pena')"
   ]
  },
  {
   "cell_type": "code",
   "execution_count": 11,
   "metadata": {},
   "outputs": [
    {
     "name": "stdout",
     "output_type": "stream",
     "text": [
      "Número de casos por classe\n"
     ]
    },
    {
     "data": {
      "text/plain": [
       "assunto\n",
       "Homicídio Privilegiado    149\n",
       "Homicídio Qualificado     933\n",
       "Homicídio Simples         918\n",
       "dtype: int64"
      ]
     },
     "execution_count": 11,
     "metadata": {},
     "output_type": "execute_result"
    }
   ],
   "source": [
    "print('Número de casos por classe') \n",
    "df.groupby('assunto').size()"
   ]
  },
  {
   "cell_type": "markdown",
   "metadata": {},
   "source": [
    "### Aplicando NLP"
   ]
  },
  {
   "cell_type": "markdown",
   "metadata": {},
   "source": [
    "#### Removendo stop words"
   ]
  },
  {
   "cell_type": "code",
   "execution_count": 12,
   "metadata": {},
   "outputs": [],
   "source": [
    "import ssl\n",
    "try:\n",
    "     _create_unverified_https_context =     ssl._create_unverified_context\n",
    "except AttributeError:\n",
    "     pass\n",
    "else:\n",
    "    ssl._create_default_https_context = _create_unverified_https_context"
   ]
  },
  {
   "cell_type": "code",
   "execution_count": 13,
   "metadata": {},
   "outputs": [
    {
     "name": "stdout",
     "output_type": "stream",
     "text": [
      "['de', 'a', 'o', 'que', 'e', 'é', 'do', 'da', 'em', 'um', 'para', 'com', 'não', 'uma', 'os', 'no', 'se', 'na', 'por', 'mais', 'as', 'dos', 'como', 'mas', 'ao', 'ele', 'das', 'à', 'seu', 'sua', 'ou', 'quando', 'muito', 'nos', 'já', 'eu', 'também', 'só', 'pelo', 'pela', 'até', 'isso', 'ela', 'entre', 'depois', 'sem', 'mesmo', 'aos', 'seus', 'quem', 'nas', 'me', 'esse', 'eles', 'você', 'essa', 'num', 'nem', 'suas', 'meu', 'às', 'minha', 'numa', 'pelos', 'elas', 'qual', 'nós', 'lhe', 'deles', 'essas', 'esses', 'pelas', 'este', 'dele', 'tu', 'te', 'vocês', 'vos', 'lhes', 'meus', 'minhas', 'teu', 'tua', 'teus', 'tuas', 'nosso', 'nossa', 'nossos', 'nossas', 'dela', 'delas', 'esta', 'estes', 'estas', 'aquele', 'aquela', 'aqueles', 'aquelas', 'isto', 'aquilo', 'estou', 'está', 'estamos', 'estão', 'estive', 'esteve', 'estivemos', 'estiveram', 'estava', 'estávamos', 'estavam', 'estivera', 'estivéramos', 'esteja', 'estejamos', 'estejam', 'estivesse', 'estivéssemos', 'estivessem', 'estiver', 'estivermos', 'estiverem', 'hei', 'há', 'havemos', 'hão', 'houve', 'houvemos', 'houveram', 'houvera', 'houvéramos', 'haja', 'hajamos', 'hajam', 'houvesse', 'houvéssemos', 'houvessem', 'houver', 'houvermos', 'houverem', 'houverei', 'houverá', 'houveremos', 'houverão', 'houveria', 'houveríamos', 'houveriam', 'sou', 'somos', 'são', 'era', 'éramos', 'eram', 'fui', 'foi', 'fomos', 'foram', 'fora', 'fôramos', 'seja', 'sejamos', 'sejam', 'fosse', 'fôssemos', 'fossem', 'for', 'formos', 'forem', 'serei', 'será', 'seremos', 'serão', 'seria', 'seríamos', 'seriam', 'tenho', 'tem', 'temos', 'tém', 'tinha', 'tínhamos', 'tinham', 'tive', 'teve', 'tivemos', 'tiveram', 'tivera', 'tivéramos', 'tenha', 'tenhamos', 'tenham', 'tivesse', 'tivéssemos', 'tivessem', 'tiver', 'tivermos', 'tiverem', 'terei', 'terá', 'teremos', 'terão', 'teria', 'teríamos', 'teriam']\n"
     ]
    },
    {
     "name": "stderr",
     "output_type": "stream",
     "text": [
      "[nltk_data] Downloading package stopwords to\n",
      "[nltk_data]     /home/sam.pereira/nltk_data...\n",
      "[nltk_data]   Package stopwords is already up-to-date!\n"
     ]
    }
   ],
   "source": [
    "import nltk\n",
    "nltk.download('stopwords')\n",
    "\n",
    "from nltk.corpus import stopwords\n",
    "pt_br_stopwords = stopwords.words('portuguese')\n",
    "\n",
    "print(pt_br_stopwords)"
   ]
  },
  {
   "cell_type": "markdown",
   "metadata": {},
   "source": [
    "### Importando Scikit lib"
   ]
  },
  {
   "cell_type": "code",
   "execution_count": 14,
   "metadata": {},
   "outputs": [],
   "source": [
    "from sklearn.metrics import confusion_matrix, accuracy_score\n",
    "from sklearn.model_selection import cross_val_score"
   ]
  },
  {
   "cell_type": "code",
   "execution_count": 15,
   "metadata": {},
   "outputs": [],
   "source": [
    "from sklearn.feature_extraction.text import TfidfVectorizer\n",
    "tfidf = TfidfVectorizer(sublinear_tf=True, min_df=5, norm='l2', encoding='ISO-8859-1', ngram_range=(1, 2), stop_words=pt_br_stopwords)\n",
    "features = tfidf.fit_transform(df.texto).toarray()"
   ]
  },
  {
   "cell_type": "code",
   "execution_count": 16,
   "metadata": {},
   "outputs": [],
   "source": [
    "from sklearn.model_selection import train_test_split\n",
    "from sklearn.preprocessing import LabelEncoder\n",
    "\n",
    "text_input = features\n",
    "text_output = df['assunto']\n",
    "\n",
    "le = LabelEncoder()\n",
    "text_output = le.fit_transform(text_output)\n",
    "\n",
    "X_train, X_test, y_train, y_test = train_test_split(text_input,text_output,test_size=0.3)"
   ]
  },
  {
   "cell_type": "markdown",
   "metadata": {},
   "source": [
    "### Criando modelos de classificação"
   ]
  },
  {
   "cell_type": "markdown",
   "metadata": {},
   "source": [
    "#### KNN"
   ]
  },
  {
   "cell_type": "code",
   "execution_count": 17,
   "metadata": {},
   "outputs": [],
   "source": [
    "from sklearn.neighbors import KNeighborsClassifier\n",
    "\n",
    "# Instantiate learning model (k = 3)\n",
    "knn_classifier = KNeighborsClassifier(n_neighbors=3)\n",
    "\n",
    "# Fitting the model\n",
    "knn_classifier.fit(X_train, y_train)\n",
    "\n",
    "# Predicting the Test set results\n",
    "y_pred = knn_classifier.predict(X_test)"
   ]
  },
  {
   "cell_type": "code",
   "execution_count": 18,
   "metadata": {},
   "outputs": [
    {
     "name": "stdout",
     "output_type": "stream",
     "text": [
      "KNN accuracy = 54.5 %.\n",
      "K-Nearest Neighbors (KNN): accuracy = 54.5 %\n"
     ]
    }
   ],
   "source": [
    "accuracy_knn = accuracy_score(y_test, y_pred)*100\n",
    "print('KNN accuracy = ' + str(round(accuracy_knn, 1)) + ' %.')\n",
    "print(\"K-Nearest Neighbors (KNN): accuracy = %3.1f %%\" % accuracy_knn)\n"
   ]
  },
  {
   "cell_type": "markdown",
   "metadata": {},
   "source": [
    "#### Decision tree"
   ]
  },
  {
   "cell_type": "code",
   "execution_count": 19,
   "metadata": {},
   "outputs": [],
   "source": [
    "from pyspark.ml.classification import DecisionTreeClassifier"
   ]
  },
  {
   "cell_type": "markdown",
   "metadata": {},
   "source": [
    "#### Naive Bayes"
   ]
  },
  {
   "cell_type": "code",
   "execution_count": 20,
   "metadata": {},
   "outputs": [],
   "source": [
    "from pyspark.ml.classification import NaiveBayes"
   ]
  }
 ],
 "metadata": {
  "kernelspec": {
   "display_name": "Python 3",
   "language": "python",
   "name": "python3"
  },
  "language_info": {
   "codemirror_mode": {
    "name": "ipython",
    "version": 3
   },
   "file_extension": ".py",
   "mimetype": "text/x-python",
   "name": "python",
   "nbconvert_exporter": "python",
   "pygments_lexer": "ipython3",
   "version": "3.6.9"
  }
 },
 "nbformat": 4,
 "nbformat_minor": 4
}
