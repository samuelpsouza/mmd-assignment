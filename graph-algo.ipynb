{
 "cells": [
  {
   "cell_type": "markdown",
   "metadata": {},
   "source": [
    "## Breadth First Search"
   ]
  },
  {
   "cell_type": "code",
   "execution_count": 1,
   "metadata": {},
   "outputs": [],
   "source": [
    "import findspark\n",
    "findspark.init()\n",
    "\n",
    "from pyspark.sql.types import *\n",
    "from graphframes import *\n",
    "from pyspark.sql import SparkSession\n",
    "\n",
    "spark = SparkSession.builder.master(\"local[*]\").appName(\"GraphAlgorithms\").getOrCreate()"
   ]
  },
  {
   "cell_type": "code",
   "execution_count": null,
   "metadata": {},
   "outputs": [],
   "source": [
    "def create_transport_graph():\n",
    "    node_fields = [\n",
    "        StructField(\"id\",StringType(), True),\n",
    "        StructField(\"latitude\",StringType(), True),\n",
    "        StructField(\"longitude\",StringType(), True),\n",
    "        StructField(\"population\",StringType(), True),\n",
    "    ]\n",
    "    \n",
    "    nodes = spark.read.csv(\"transport-nodes.csv\", header=True, schema=StructType(node_fields))\n",
    "    rels = spark.read.csv(\"transport-relationships.csv\", header=True)\n",
    "    \n",
    "    reversed_rels = (rels.withColumn(\"newSrc\", rels.dst)\n",
    "                     .withColumn(\"newDst\", rels.src)\n",
    "                     .drop(\"dst\", \"src\")\n",
    "                     .withColumnRenamed(\"newSrc\", \"src\")\n",
    "                     .withColumnRenamed(\"newDst\", \"dst\")\n",
    "                     .select(\"src\", \"dst\", \"relationship\", \"cost\"))\n",
    "    relationships = rels.union(reversed_rels)\n",
    "    return GraphFrame(nodes, relationships)"
   ]
  },
  {
   "cell_type": "code",
   "execution_count": null,
   "metadata": {},
   "outputs": [],
   "source": [
    "g = create_transport_graph()"
   ]
  },
  {
   "cell_type": "code",
   "execution_count": null,
   "metadata": {},
   "outputs": [],
   "source": [
    "(g.vertices\n",
    ".filter(\"population > 100000 and population < 300000\")\n",
    ".sort(\"population\")\n",
    ".show())"
   ]
  },
  {
   "cell_type": "code",
   "execution_count": null,
   "metadata": {},
   "outputs": [],
   "source": [
    "from_expr = \"id='Den Haag'\"\n",
    "to_expr = \"population > 100000 and population < 300000 and id <> 'Den Haag'\"\n",
    "result = g.bfs(from_expr, to_expr)"
   ]
  },
  {
   "cell_type": "code",
   "execution_count": null,
   "metadata": {},
   "outputs": [],
   "source": [
    "columns = [column for column in result.columns if not column.startswith(\"e\")]\n",
    "result.select(columns).show()"
   ]
  },
  {
   "cell_type": "markdown",
   "metadata": {},
   "source": [
    "## Depth First Search"
   ]
  },
  {
   "cell_type": "code",
   "execution_count": null,
   "metadata": {},
   "outputs": [],
   "source": []
  }
 ],
 "metadata": {
  "kernelspec": {
   "display_name": "Python 3",
   "language": "python",
   "name": "python3"
  },
  "language_info": {
   "codemirror_mode": {
    "name": "ipython",
    "version": 3
   },
   "file_extension": ".py",
   "mimetype": "text/x-python",
   "name": "python",
   "nbconvert_exporter": "python",
   "pygments_lexer": "ipython3",
   "version": "3.6.9"
  }
 },
 "nbformat": 4,
 "nbformat_minor": 4
}
